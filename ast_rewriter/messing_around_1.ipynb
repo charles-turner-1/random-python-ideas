{
 "cells": [
  {
   "cell_type": "markdown",
   "id": "e015c336",
   "metadata": {},
   "source": [
    "### In the cell below, we define a class that has a couple of instances that return self, and an attribute. We are looking to see if we can rewrite the AST to remove the intermediate self references."
   ]
  },
  {
   "cell_type": "code",
   "execution_count": 10,
   "id": "6be4ec65",
   "metadata": {},
   "outputs": [
    {
     "data": {
      "text/plain": [
       "42"
      ]
     },
     "execution_count": 10,
     "metadata": {},
     "output_type": "execute_result"
    }
   ],
   "source": [
    "\n",
    "\n",
    "class Selfie:\n",
    "    def __init__(self, value):\n",
    "        self.value = value\n",
    "\n",
    "    def method_one(self):\n",
    "        return self\n",
    "    \n",
    "    def method_two(self):\n",
    "        return self\n",
    "    \n",
    "\n",
    "s = Selfie(42).method_one().method_two().value\n",
    "s"
   ]
  },
  {
   "cell_type": "code",
   "execution_count": 11,
   "id": "3dfa873a",
   "metadata": {},
   "outputs": [
    {
     "name": "stdout",
     "output_type": "stream",
     "text": [
      "\n",
      "\n",
      "class Selfie:\n",
      "    def __init__(self, value):\n",
      "        self.value = value\n",
      "\n",
      "    def method_one(self):\n",
      "        return self\n",
      "    \n",
      "    def method_two(self):\n",
      "        return self\n",
      "    \n",
      "\n",
      "s = Selfie(42).method_one().method_two().value\n",
      "s\n"
     ]
    }
   ],
   "source": [
    "src_code = _i\n",
    "print(src_code)"
   ]
  },
  {
   "cell_type": "code",
   "execution_count": 14,
   "id": "9824102a",
   "metadata": {},
   "outputs": [
    {
     "name": "stdout",
     "output_type": "stream",
     "text": [
      "Module(\n",
      "    body=[\n",
      "        ClassDef(\n",
      "            name='Selfie',\n",
      "            bases=[],\n",
      "            keywords=[],\n",
      "            body=[\n",
      "                FunctionDef(\n",
      "                    name='__init__',\n",
      "                    args=arguments(\n",
      "                        posonlyargs=[],\n",
      "                        args=[\n",
      "                            arg(arg='self'),\n",
      "                            arg(arg='value')],\n",
      "                        kwonlyargs=[],\n",
      "                        kw_defaults=[],\n",
      "                        defaults=[]),\n",
      "                    body=[\n",
      "                        Assign(\n",
      "                            targets=[\n",
      "                                Attribute(\n",
      "                                    value=Name(id='self', ctx=Load()),\n",
      "                                    attr='value',\n",
      "                                    ctx=Store())],\n",
      "                            value=Name(id='value', ctx=Load()))],\n",
      "                    decorator_list=[],\n",
      "                    type_params=[]),\n",
      "                FunctionDef(\n",
      "                    name='method_one',\n",
      "                    args=arguments(\n",
      "                        posonlyargs=[],\n",
      "                        args=[\n",
      "                            arg(arg='self')],\n",
      "                        kwonlyargs=[],\n",
      "                        kw_defaults=[],\n",
      "                        defaults=[]),\n",
      "                    body=[\n",
      "                        Return(\n",
      "                            value=Name(id='self', ctx=Load()))],\n",
      "                    decorator_list=[],\n",
      "                    type_params=[]),\n",
      "                FunctionDef(\n",
      "                    name='method_two',\n",
      "                    args=arguments(\n",
      "                        posonlyargs=[],\n",
      "                        args=[\n",
      "                            arg(arg='self')],\n",
      "                        kwonlyargs=[],\n",
      "                        kw_defaults=[],\n",
      "                        defaults=[]),\n",
      "                    body=[\n",
      "                        Return(\n",
      "                            value=Name(id='self', ctx=Load()))],\n",
      "                    decorator_list=[],\n",
      "                    type_params=[])],\n",
      "            decorator_list=[],\n",
      "            type_params=[]),\n",
      "        Assign(\n",
      "            targets=[\n",
      "                Name(id='s', ctx=Store())],\n",
      "            value=Attribute(\n",
      "                value=Call(\n",
      "                    func=Attribute(\n",
      "                        value=Call(\n",
      "                            func=Attribute(\n",
      "                                value=Call(\n",
      "                                    func=Name(id='Selfie', ctx=Load()),\n",
      "                                    args=[\n",
      "                                        Constant(value=42)],\n",
      "                                    keywords=[]),\n",
      "                                attr='method_one',\n",
      "                                ctx=Load()),\n",
      "                            args=[],\n",
      "                            keywords=[]),\n",
      "                        attr='method_two',\n",
      "                        ctx=Load()),\n",
      "                    args=[],\n",
      "                    keywords=[]),\n",
      "                attr='value',\n",
      "                ctx=Load())),\n",
      "        Expr(\n",
      "            value=Name(id='s', ctx=Load()))],\n",
      "    type_ignores=[])\n"
     ]
    }
   ],
   "source": [
    "import ast\n",
    "print(ast.dump(ast.parse(src_code), indent=4))"
   ]
  },
  {
   "cell_type": "markdown",
   "id": "6cd63244",
   "metadata": {},
   "source": [
    "Too complicated. Let's just do the chained calls."
   ]
  },
  {
   "cell_type": "code",
   "execution_count": 56,
   "id": "05e8710e",
   "metadata": {},
   "outputs": [
    {
     "name": "stdout",
     "output_type": "stream",
     "text": [
      "Module(\n",
      "    body=[\n",
      "        Expr(\n",
      "            value=Attribute(\n",
      "                value=Call(\n",
      "                    func=Attribute(\n",
      "                        value=Call(\n",
      "                            func=Attribute(\n",
      "                                value=Call(\n",
      "                                    func=Name(id='Selfie', ctx=Load()),\n",
      "                                    args=[\n",
      "                                        Constant(value=42)],\n",
      "                                    keywords=[]),\n",
      "                                attr='method_one',\n",
      "                                ctx=Load()),\n",
      "                            args=[],\n",
      "                            keywords=[]),\n",
      "                        attr='method_two',\n",
      "                        ctx=Load()),\n",
      "                    args=[],\n",
      "                    keywords=[]),\n",
      "                attr='value',\n",
      "                ctx=Load()))],\n",
      "    type_ignores=[])\n"
     ]
    }
   ],
   "source": [
    "call_ast = ast.parse(\"Selfie(42).method_one().method_two().value\")\n",
    "print(ast.dump(call_ast, indent=4))"
   ]
  },
  {
   "cell_type": "code",
   "execution_count": 50,
   "id": "ec496a4b",
   "metadata": {},
   "outputs": [
    {
     "name": "stdout",
     "output_type": "stream",
     "text": [
      "Selfie.value\n"
     ]
    }
   ],
   "source": [
    "import copy\n",
    "class NodeRemover(ast.NodeTransformer):\n",
    "    def visit_Call(self, node):\n",
    "        # Check if the call is a method call on an instance of Selfie\n",
    "        if isinstance(node.func, ast.Attribute): \n",
    "            if hasattr(node.func, 'attr') and node.func.attr in ['method_one', 'method_two']:\n",
    "                # If it's a method call, we can remove the self reference\n",
    "                node.func.value = ast.Name(id='Selfie', ctx=ast.Load())\n",
    "                return self.visit(node.func.value)  # Visit the modified node recursively\n",
    "        return self.generic_visit(node)\n",
    "\n",
    "transformer = NodeRemover()\n",
    "transformed_ast = transformer.visit(copy.deepcopy(call_ast))\n",
    "print(ast.unparse(transformed_ast))"
   ]
  },
  {
   "cell_type": "markdown",
   "id": "f8a83f4d",
   "metadata": {},
   "source": [
    "- That works. But it's a simple example. Let's try something more complex."
   ]
  },
  {
   "cell_type": "code",
   "execution_count": 51,
   "id": "0f825c4a",
   "metadata": {},
   "outputs": [],
   "source": [
    "s1 = Selfie(42).method_one().method_two().value\n",
    "\n",
    "s2 = Selfie(42).method_two().method_one().method_two().value"
   ]
  },
  {
   "cell_type": "code",
   "execution_count": 52,
   "id": "cf8be0b6",
   "metadata": {},
   "outputs": [
    {
     "name": "stdout",
     "output_type": "stream",
     "text": [
      "s1 = Selfie.value\n",
      "s2 = Selfie.value\n"
     ]
    }
   ],
   "source": [
    "src_code = _i\n",
    "ast_2 = ast.parse(src_code)\n",
    "\n",
    "transformed_ast_2 = NodeRemover().visit(ast_2)  # This is calling visit() with no arguments!\n",
    "print(ast.unparse(transformed_ast_2))"
   ]
  },
  {
   "cell_type": "markdown",
   "id": "86bf0773",
   "metadata": {},
   "source": [
    "- If we wanted to use this for telemetry, we'd want to add a side effect to each visit call. Lets modify it to do that"
   ]
  },
  {
   "cell_type": "code",
   "execution_count": 64,
   "id": "1b2402dc",
   "metadata": {},
   "outputs": [
    {
     "name": "stdout",
     "output_type": "stream",
     "text": [
      "Selfie(42).method_one().method_two().value\n",
      "Visiting method_one\n",
      "Visiting method_two\n",
      "Selfie.method_two().value\n"
     ]
    }
   ],
   "source": [
    "print(ast.unparse(call_ast))\n",
    "class NodeRemoverTelem(ast.NodeTransformer):\n",
    "    def visit_Call(self, node):\n",
    "        # Check if the call is a method call on an instance of Selfie\n",
    "        node = self.generic_visit(node)  # Visit the node first to ensure all children are processed\n",
    "        if isinstance(node.func, ast.Attribute): \n",
    "            if hasattr(node.func, 'attr') and node.func.attr in ['method_one', 'method_two']:\n",
    "                # If it's a method call, we can remove the self reference\n",
    "                print(f\"Visiting {node.func.attr}\")  # Side effect for telemetry\n",
    "                # Replace the node with it's parent node\n",
    "                node.func.value = ast.Name(id='Selfie', ctx=ast.Load())\n",
    "                node.func.value = self.visit(node.func.value)\n",
    "        return node\n",
    "\n",
    "transformer = NodeRemoverTelem()\n",
    "transformed_ast = transformer.visit(copy.deepcopy(call_ast))\n",
    "print(ast.unparse(transformed_ast))"
   ]
  },
  {
   "cell_type": "code",
   "execution_count": 66,
   "id": "b6e4290c",
   "metadata": {},
   "outputs": [
    {
     "name": "stdout",
     "output_type": "stream",
     "text": [
      "Selfie(42).method_one().method_two().value\n",
      "Visiting method_two\n",
      "Selfie.method_two().value\n"
     ]
    }
   ],
   "source": [
    "print(ast.unparse(call_ast))\n",
    "class NodeRemoverTelem(ast.NodeTransformer):\n",
    "    def visit_Call(self, node):\n",
    "        # Check if the call is a method call on an instance of Selfie FIRST\n",
    "        if isinstance(node.func, ast.Attribute): \n",
    "            if hasattr(node.func, 'attr') and node.func.attr in ['method_one', 'method_two']:\n",
    "                # If it's a method call, we can remove the self reference\n",
    "                print(f\"Visiting {node.func.attr}\")  # Side effect for telemetry\n",
    "                # Replace the node with it's parent node\n",
    "                node.func.value = ast.Name(id='Selfie', ctx=ast.Load())\n",
    "                # Now visit the children to handle any nested transformations\n",
    "                return self.generic_visit(node)\n",
    "        # Only call generic_visit if we didn't transform this node\n",
    "        return self.generic_visit(node)\n",
    "\n",
    "transformer = NodeRemoverTelem()\n",
    "transformed_ast = transformer.visit(copy.deepcopy(call_ast))\n",
    "print(ast.unparse(transformed_ast))"
   ]
  },
  {
   "cell_type": "markdown",
   "id": "996cd98e",
   "metadata": {},
   "source": [
    "- Looks like this is going to be really messy. \n",
    "\n",
    "The `astroid` package might help here, it extends `ast` & has parent nodes built in, as well as some more clever stuff"
   ]
  },
  {
   "cell_type": "code",
   "execution_count": 75,
   "id": "14952748",
   "metadata": {},
   "outputs": [
    {
     "name": "stdout",
     "output_type": "stream",
     "text": [
      "Module(\n",
      " name='',\n",
      " file='<?>',\n",
      " path=['<?>'],\n",
      " package=False,\n",
      " pure_python=True,\n",
      " future_imports=set(),\n",
      " doc_node=None,\n",
      " body=[Expr(value=Attribute(\n",
      "    attrname='value',\n",
      "    expr=Call(\n",
      "     func=Attribute(\n",
      "      attrname='method_two',\n",
      "      expr=Call(\n",
      "       func=Attribute(\n",
      "        attrname='method_one',\n",
      "        expr=Call(\n",
      "         func=Name(name='Selfie'),\n",
      "         args=[Const(\n",
      "           value=42,\n",
      "           kind=None)],\n",
      "         keywords=[])),\n",
      "       args=[],\n",
      "       keywords=[])),\n",
      "     args=[],\n",
      "     keywords=[])))])\n"
     ]
    }
   ],
   "source": [
    "from astroid import parse\n",
    "\n",
    "print(parse(ast.unparse(call_ast)).repr_tree(indent=\" \"))"
   ]
  },
  {
   "cell_type": "code",
   "execution_count": 87,
   "id": "247fb0fa",
   "metadata": {},
   "outputs": [
    {
     "name": "stdout",
     "output_type": "stream",
     "text": [
      "Module(\n",
      " name='',\n",
      " file='<?>',\n",
      " path=['<?>'],\n",
      " package=False,\n",
      " pure_python=True,\n",
      " future_imports=set(),\n",
      " doc_node=None,\n",
      " body=[Expr(value=Attribute(\n",
      "    attrname='value',\n",
      "    expr=Call(\n",
      "     func=Attribute(\n",
      "      attrname='method_two',\n",
      "      expr=Call(\n",
      "       func=Attribute(\n",
      "        attrname='method_one',\n",
      "        expr=Call(\n",
      "         func=Name(name='Selfie'),\n",
      "         args=[Const(\n",
      "           value=42,\n",
      "           kind=None)],\n",
      "         keywords=[])),\n",
      "       args=[],\n",
      "       keywords=[])),\n",
      "     args=[],\n",
      "     keywords=[])))])\n",
      "\n",
      "Node hierarchy with parents:\n",
      "Module: \n",
      "  Expr: \n",
      "   Child::no attr  -> Parent: Module\n",
      "    Attribute: value\n",
      "     Child::value  -> Parent: Expr\n",
      "      Call: \n",
      "       Child::no attr  -> Parent: Attribute\n",
      "        Attribute: method_two\n",
      "         Child::method_two  -> Parent: Call\n",
      "          Call: \n",
      "           Child::no attr  -> Parent: Attribute\n",
      "            Attribute: method_one\n",
      "             Child::method_one  -> Parent: Call\n",
      "              Call: \n",
      "               Child::no attr  -> Parent: Attribute\n",
      "                Name: Selfie\n",
      "                 Child::no attr  -> Parent: Call\n",
      "                Const: int\n",
      "                 Child::no attr  -> Parent: Call\n"
     ]
    }
   ],
   "source": [
    "from astroid import parse\n",
    "\n",
    "astroid_tree = parse(ast.unparse(call_ast))\n",
    "print(astroid_tree.repr_tree(indent=\" \"))\n",
    "\n",
    "# Now you can access parent nodes\n",
    "def show_parents(node, depth=0):\n",
    "    indent = \"  \" * depth\n",
    "    print(f\"{indent}{type(node).__name__}: {getattr(node, 'name', getattr(node, 'attrname', ''))}\")\n",
    "    if hasattr(node, 'parent') and node.parent:\n",
    "        print(f\"{indent} Child::{getattr(node, 'attrname', 'no attr')}  -> Parent: {type(node.parent).__name__}\")\n",
    "    \n",
    "    for child in node.get_children():\n",
    "        show_parents(child, depth + 1)\n",
    "\n",
    "print(\"\\nNode hierarchy with parents:\")\n",
    "show_parents(astroid_tree)"
   ]
  }
 ],
 "metadata": {
  "kernelspec": {
   "display_name": "base",
   "language": "python",
   "name": "python3"
  },
  "language_info": {
   "codemirror_mode": {
    "name": "ipython",
    "version": 3
   },
   "file_extension": ".py",
   "mimetype": "text/x-python",
   "name": "python",
   "nbconvert_exporter": "python",
   "pygments_lexer": "ipython3",
   "version": "3.12.5"
  }
 },
 "nbformat": 4,
 "nbformat_minor": 5
}
