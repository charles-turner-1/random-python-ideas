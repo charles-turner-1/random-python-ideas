{
 "cells": [
  {
   "cell_type": "code",
   "execution_count": 1,
   "id": "a51adeca",
   "metadata": {},
   "outputs": [
    {
     "name": "stderr",
     "output_type": "stream",
     "text": [
      "/Users/u1166368/miniforge3/lib/python3.12/site-packages/xarray/conventions.py:204: SerializationWarning: variable 'tos' has multiple fill values {np.float32(1e+20), np.float64(1e+20)} defined, decoding all values to NaN.\n",
      "  var = coder.decode(var, name=name)\n"
     ]
    }
   ],
   "source": [
    "import xarray as xr\n",
    "import libcst as cst\n",
    "import inspect\n",
    "import libcst.matchers as m\n",
    "from libcst.display import dump\n",
    "\n",
    "test_file = \"/Users/u1166368/xarray/tos_Omon_CESM2-WACCM_historical_r2i1p1f1_gr_185001-201412.nc\"\n",
    "\n",
    "ds = xr.open_dataset(test_file, decode_times=False)"
   ]
  },
  {
   "cell_type": "code",
   "execution_count": 2,
   "id": "21d14650",
   "metadata": {},
   "outputs": [
    {
     "name": "stdout",
     "output_type": "stream",
     "text": [
      "201 ms ± 44.9 ms per loop (mean ± std. dev. of 5 runs, 5 loops each)\n"
     ]
    }
   ],
   "source": [
    "%%timeit -n 5 -r 5 \n",
    "ds.mean(dim=\"time\").mean(dim=\"lat\").mean(dim=\"lon\")"
   ]
  },
  {
   "cell_type": "code",
   "execution_count": 11,
   "id": "f0d980a7",
   "metadata": {},
   "outputs": [
    {
     "name": "stdout",
     "output_type": "stream",
     "text": [
      "160 ms ± 20.4 ms per loop (mean ± std. dev. of 5 runs, 5 loops each)\n"
     ]
    }
   ],
   "source": [
    "%%timeit -n 5 -r 5 \n",
    "ds.mean(dim=[\"time\", \"lat\", \"lon\"])"
   ]
  },
  {
   "cell_type": "markdown",
   "id": "6f7ced85",
   "metadata": {},
   "source": [
    "### So it gets about 30% faster if you group the dimensions.\n",
    "\n",
    "- Can we rewrite the code to group the dimensions?"
   ]
  },
  {
   "cell_type": "code",
   "execution_count": 3,
   "id": "c377740b",
   "metadata": {},
   "outputs": [],
   "source": [
    "def sequential(ds):\n",
    "    return ds.mean(dim=\"time\").mean(dim=\"lat\").mean(dim=\"lon\")\n",
    "\n",
    "def grouped(ds):\n",
    "    return ds.mean(dim=[\"time\", \"lat\", \"lon\"])"
   ]
  },
  {
   "cell_type": "code",
   "execution_count": 13,
   "id": "641a26bd",
   "metadata": {},
   "outputs": [
    {
     "name": "stdout",
     "output_type": "stream",
     "text": [
      "151 ms ± 18.1 ms per loop (mean ± std. dev. of 5 runs, 5 loops each)\n"
     ]
    }
   ],
   "source": [
    "%%timeit -n 5 -r 5 \n",
    "grouped(ds)"
   ]
  },
  {
   "cell_type": "code",
   "execution_count": 14,
   "id": "54cf85db",
   "metadata": {},
   "outputs": [
    {
     "name": "stdout",
     "output_type": "stream",
     "text": [
      "169 ms ± 1.82 ms per loop (mean ± std. dev. of 5 runs, 5 loops each)\n"
     ]
    }
   ],
   "source": [
    "%%timeit -n 5 -r 5\n",
    "sequential(ds)"
   ]
  },
  {
   "cell_type": "code",
   "execution_count": 5,
   "id": "563a2431",
   "metadata": {},
   "outputs": [],
   "source": [
    "cst_for_mods = cst.parse_module(inspect.getsource(sequential))\n",
    "target_cst = cst.parse_module(inspect.getsource(grouped))"
   ]
  },
  {
   "cell_type": "code",
   "execution_count": 37,
   "id": "eee02349",
   "metadata": {},
   "outputs": [
    {
     "name": "stdout",
     "output_type": "stream",
     "text": [
      "Found chain: ds.mean(dim=time) -> .mean()\n",
      "Removing .mean(dim=time) from chain, keeping .mean()\n",
      "Found chain: ds.mean(dim=['time', 'lat']) -> .mean()\n",
      "Removing .mean(dim=['time', 'lat']) from chain, keeping .mean()\n",
      "\n",
      " Transformed code:\n",
      "\n",
      "def sequential(ds):\n",
      "    return ds.mean(dim = [\"time\", \"lat\", \"lon\"])\n",
      "\n"
     ]
    }
   ],
   "source": [
    "from ast import literal_eval\n",
    "def extract_call_args(call_node : cst.Call) ->  dict:\n",
    "    \"\"\"\n",
    "    Take a cst Call Node and, assuming only kwargs, extract that into a dict\n",
    "    \"\"\"\n",
    "    kwargs = {}\n",
    "    for arg in call_node.args:\n",
    "        if arg.keyword is None:\n",
    "            raise TypeError(\"Only dealing with kwargs for now\")\n",
    "        else:\n",
    "            key = arg.keyword.value \n",
    "            try:\n",
    "                kwargs[key] = literal_eval(arg.value.value)\n",
    "            except AttributeError: # Can't literal eval a list\n",
    "                kwargs[key] = [literal_eval(arg.value.value) for arg in arg.value.elements]\n",
    "            # ^ Arg.value.value looks stupid, but arg.value is a cst Node itself\n",
    "            # For catalogs, it's usually a cst.SimpleString or something like that,\n",
    "            # so we could probably literal eval it?\n",
    "\n",
    "    return kwargs\n",
    "\n",
    "def format_args(kwargs: dict) -> str:\n",
    "    \"\"\"\n",
    "    Format args and kwargs into a string representation\n",
    "    \"\"\"\n",
    "    if kwargs:\n",
    "        kwargs_str = \", \".join([f\"{k}={v}\" for k, v in kwargs.items()])\n",
    "        return kwargs_str\n",
    "    return \"\"\n",
    "\n",
    "def merge_args(pop_args : cst.Arg, keep_args: cst.Arg) -> cst.Arg:\n",
    "    \"\"\"\n",
    "    Take arguments from pop_node, and merge them with keep_node.\n",
    "    \"\"\"\n",
    "    keep_arg_keys = [arg.keyword.value for arg in keep_args if arg.keyword is not None]\n",
    "    for arg in pop_args:\n",
    "        if arg.keyword is None:\n",
    "            raise TypeError(\"Only dealing with kwargs for now\")\n",
    "        if arg.keyword.value not in keep_arg_keys:\n",
    "            raise TypeError(\"Not handling this for now\")\n",
    "\n",
    "    # Collect all elements, flattening any existing lists\n",
    "    all_elements = []\n",
    "    \n",
    "    # Add elements from pop_args (the inner call)\n",
    "    for arg in pop_args:\n",
    "        if isinstance(arg.value, cst.List):\n",
    "            # If it's already a list, extract its elements\n",
    "            all_elements.extend(arg.value.elements)\n",
    "        else:\n",
    "            # If it's a single value, wrap it in an Element\n",
    "            all_elements.append(cst.Element(value=arg.value))\n",
    "    \n",
    "    # Add elements from keep_args (the outer call)\n",
    "    for arg in keep_args:\n",
    "        if isinstance(arg.value, cst.List):\n",
    "            # If it's already a list, extract its elements\n",
    "            all_elements.extend(arg.value.elements)\n",
    "        else:\n",
    "            # If it's a single value, wrap it in an Element\n",
    "            all_elements.append(cst.Element(value=arg.value))\n",
    "\n",
    "    # Create a new Arg node with the flattened list\n",
    "    flattened_list = cst.List(elements=all_elements)\n",
    "\n",
    "    return cst.Arg(\n",
    "        keyword=cst.Name(keep_arg_keys[0]),\n",
    "        value=flattened_list,\n",
    "    )\n",
    "   \n",
    "\n",
    "class ChainSimplifier(cst.CSTTransformer):\n",
    "    \"\"\"\n",
    "    Transform chained calls by removing intermediate method calls\n",
    "    Example: ds.search(...).search(...).to_dataset_dict() \n",
    "    becomes: ds.to_dataset_dict()\n",
    "    \"\"\"\n",
    "    \n",
    "    def leave_Call(self, original_node: cst.Call, updated_node: cst.Call) -> cst.Call:\n",
    "        # Use matcher to identify the pattern: any_method(search_call(...))\n",
    "        search_pattern = m.Call(\n",
    "            func=m.Attribute(\n",
    "                value=m.Call(\n",
    "                    func=m.Attribute(attr=m.Name(\"mean\"))\n",
    "                )\n",
    "            )\n",
    "        )\n",
    "        \n",
    "        if m.matches(updated_node, search_pattern):\n",
    "            # Extract the method name and inner call\n",
    "            method_name = updated_node.func.attr.value\n",
    "            inner_call = updated_node.func.value\n",
    "\n",
    "            kwargs = extract_call_args(inner_call)\n",
    "            \n",
    "            print(f\"Found chain: {inner_call.func.value.value}.{inner_call.func.attr.value}({format_args(kwargs)}) -> .{method_name}()\")\n",
    "            \n",
    "            print(f\"Removing .{inner_call.func.attr.value}({format_args(kwargs)}) from chain, keeping .{method_name}()\")\n",
    "            \n",
    "            # Replace the value with the inner call's value\n",
    "            # This effectively removes the search() call\n",
    "            new_args = merge_args(inner_call.args, updated_node.args)\n",
    "            new_func = updated_node.func.with_changes(\n",
    "                value=inner_call.func.value\n",
    "            )\n",
    "            return updated_node.with_changes(func=new_func, args = [new_args])\n",
    "        \n",
    "        return updated_node\n",
    "\n",
    "\n",
    "transformer = ChainSimplifier()\n",
    "transformed_cst = cst_for_mods.visit(transformer)\n",
    "\n",
    "print(\"\\n Transformed code:\\n\")\n",
    "print(transformed_cst.code)"
   ]
  },
  {
   "cell_type": "markdown",
   "id": "9b0fdc48",
   "metadata": {},
   "source": [
    "___\n",
    "# Get rid of all the printing to time it"
   ]
  },
  {
   "cell_type": "code",
   "execution_count": 59,
   "id": "5364864f",
   "metadata": {},
   "outputs": [
    {
     "name": "stdout",
     "output_type": "stream",
     "text": [
      "Input code:\n",
      "@ast_transform_fast\n",
      "def sequential_transformed_fast(ds):\n",
      "    \"\"\"\n",
      "    Transformed version of sequential that uses the fast decorator.\n",
      "    \"\"\"\n",
      "    return ds.mean(dim=\"time\").mean(dim=\"lat\").mean(dim=\"lon\")\n",
      "\n",
      "\n",
      "\n",
      "Transformed code:\n",
      "\n",
      "def sequential_transformed_fast(ds):\n",
      "    \"\"\"\n",
      "    Transformed version of sequential that uses the fast decorator.\n",
      "    \"\"\"\n",
      "    return ds.mean(dim = [\"time\", \"lat\", \"lon\"])\n",
      "\n",
      "\n"
     ]
    }
   ],
   "source": [
    "from typing import Callable\n",
    "from ast import literal_eval\n",
    "\n",
    "def extract_call_args(call_node : cst.Call) ->  dict:\n",
    "    \"\"\"\n",
    "    Take a cst Call Node and, assuming only kwargs, extract that into a dict\n",
    "    \"\"\"\n",
    "    kwargs = {}\n",
    "    for arg in call_node.args:\n",
    "        if arg.keyword is None:\n",
    "            raise TypeError(\"Only dealing with kwargs for now\")\n",
    "        else:\n",
    "            key = arg.keyword.value \n",
    "            try:\n",
    "                kwargs[key] = literal_eval(arg.value.value)\n",
    "            except AttributeError: # Can't literal eval a list\n",
    "                kwargs[key] = [literal_eval(arg.value.value) for arg in arg.value.elements]\n",
    "            # ^ Arg.value.value looks stupid, but arg.value is a cst Node itself\n",
    "            # For catalogs, it's usually a cst.SimpleString or something like that,\n",
    "            # so we could probably literal eval it?\n",
    "\n",
    "    return kwargs\n",
    "\n",
    "def format_args(kwargs: dict) -> str:\n",
    "    \"\"\"\n",
    "    Format args and kwargs into a string representation\n",
    "    \"\"\"\n",
    "    if kwargs:\n",
    "        kwargs_str = \", \".join([f\"{k}={v}\" for k, v in kwargs.items()])\n",
    "        return kwargs_str\n",
    "    return \"\"\n",
    "\n",
    "def merge_args(pop_args : cst.Arg, keep_args: cst.Arg) -> cst.Arg:\n",
    "    \"\"\"\n",
    "    Take arguments from pop_node, and merge them with keep_node.\n",
    "    \"\"\"\n",
    "    keep_arg_keys = [arg.keyword.value for arg in keep_args if arg.keyword is not None]\n",
    "    for arg in pop_args:\n",
    "        if arg.keyword is None:\n",
    "            raise TypeError(\"Only dealing with kwargs for now\")\n",
    "        if arg.keyword.value not in keep_arg_keys:\n",
    "            raise TypeError(\"Not handling this for now\")\n",
    "\n",
    "    # Collect all elements, flattening any existing lists\n",
    "    all_elements = []\n",
    "    \n",
    "    # Add elements from pop_args (the inner call)\n",
    "    for arg in pop_args:\n",
    "        if isinstance(arg.value, cst.List):\n",
    "            # If it's already a list, extract its elements\n",
    "            all_elements.extend(arg.value.elements)\n",
    "        else:\n",
    "            # If it's a single value, wrap it in an Element\n",
    "            all_elements.append(cst.Element(value=arg.value))\n",
    "    \n",
    "    # Add elements from keep_args (the outer call)\n",
    "    for arg in keep_args:\n",
    "        if isinstance(arg.value, cst.List):\n",
    "            # If it's already a list, extract its elements\n",
    "            all_elements.extend(arg.value.elements)\n",
    "        else:\n",
    "            # If it's a single value, wrap it in an Element\n",
    "            all_elements.append(cst.Element(value=arg.value))\n",
    "\n",
    "    # Create a new Arg node with the flattened list\n",
    "    flattened_list = cst.List(elements=all_elements)\n",
    "\n",
    "    return cst.Arg(\n",
    "        keyword=cst.Name(keep_arg_keys[0]),\n",
    "        value=flattened_list,\n",
    "    )\n",
    "   \n",
    "\n",
    "class ChainSimplifier(cst.CSTTransformer):\n",
    "    \"\"\"\n",
    "    Transform chained calls by removing intermediate method calls\n",
    "    Example: ds.search(...).search(...).to_dataset_dict() \n",
    "    becomes: ds.to_dataset_dict()\n",
    "    \"\"\"\n",
    "    \n",
    "    def leave_Call(self, original_node: cst.Call, updated_node: cst.Call) -> cst.Call:\n",
    "        # Use matcher to identify the pattern: any_method(search_call(...))\n",
    "        search_pattern = m.Call(\n",
    "            func=m.Attribute(\n",
    "                value=m.Call(\n",
    "                    func=m.Attribute(attr=m.Name(\"mean\"))\n",
    "                )\n",
    "            )\n",
    "        )\n",
    "        \n",
    "        if m.matches(updated_node, search_pattern):\n",
    "            # Extract the method name and inner call\n",
    "            method_name = updated_node.func.attr.value\n",
    "            inner_call = updated_node.func.value\n",
    "\n",
    "            kwargs = extract_call_args(inner_call)\n",
    "            \n",
    "            # Replace the value with the inner call's value\n",
    "            # This effectively removes the search() call\n",
    "            new_args = merge_args(inner_call.args, updated_node.args)\n",
    "            new_func = updated_node.func.with_changes(\n",
    "                value=inner_call.func.value\n",
    "            )\n",
    "            return updated_node.with_changes(func=new_func, args = [new_args])\n",
    "        \n",
    "        return updated_node\n",
    "\n",
    "def ast_transform(func: Callable) -> Callable:\n",
    "    \"\"\"\n",
    "    Transform a function to remove chained calls. Computes the transformation\n",
    "    on every invoation - not good.\n",
    "    \"\"\"\n",
    "    def wrapper(*args, **kwargs):\n",
    "        cst_for_mods = cst.parse_module(inspect.getsource(func))\n",
    "        transformer = ChainSimplifier()\n",
    "        transformed_cst = cst_for_mods.visit(transformer)\n",
    "        exec(transformed_cst.code, globals(), locals())\n",
    "        return func(*args, **kwargs)\n",
    "    \n",
    "    return wrapper\n",
    "\n",
    "def ast_transform_fast(func: Callable) -> Callable:\n",
    "    \"\"\"\n",
    "    Transform a function to remove chained calls. \n",
    "    \"\"\"\n",
    "    # Do the transformation ONCE when the decorator is applied\n",
    "    cst_for_mods = cst.parse_module('''\n",
    "def sequential_transformed_fast(ds):\n",
    "    \"\"\"\n",
    "    Transformed version of sequential that uses the fast decorator.\n",
    "    \"\"\"\n",
    "    return ds.mean(dim=\"time\").mean(dim=\"lat\").mean(dim=\"lon\")\n",
    "''') # I don't know how to get the source code of the function, keep getting an os\n",
    "    # error from cst.parse_module(inspect.getsource(func))\n",
    "    transformer = ChainSimplifier()\n",
    "    transformed_cst = cst_for_mods.visit(transformer)\n",
    "    transformed_code = transformed_cst.code\n",
    "\n",
    "    print(\"Input code:\\n\" \n",
    "            f\"{inspect.getsource(func)}\\n\")\n",
    "    \n",
    "    print(\"\\nTransformed code:\\n\"\n",
    "          f\"{transformed_code}\\n\")\n",
    "    # Compile the transformed code once\n",
    "    compiled_code = compile(transformed_code, '<transformed>', 'exec')\n",
    "    \n",
    "    def wrapper(*args, **kwargs):\n",
    "        # Create a local namespace for execution\n",
    "        local_vars = {}\n",
    "        exec(compiled_code, globals(), local_vars)\n",
    "        \n",
    "        # Get the transformed function from local namespace\n",
    "        func_name = func.__name__\n",
    "        transformed_func = local_vars[func_name]\n",
    "        \n",
    "        # Call the transformed function\n",
    "        return transformed_func(*args, **kwargs)\n",
    "    \n",
    "    # Store the transformed code for inspection\n",
    "    wrapper.transformed_code = transformed_code\n",
    "    return wrapper\n",
    "\n",
    "@ast_transform\n",
    "def sequential_transformed(ds):\n",
    "    return ds.mean(dim=\"time\").mean(dim=\"lat\").mean(dim=\"lon\")\n",
    "\n",
    "@ast_transform_fast\n",
    "def sequential_transformed_fast(ds):\n",
    "    \"\"\"\n",
    "    Transformed version of sequential that uses the fast decorator.\n",
    "    \"\"\"\n",
    "    return ds.mean(dim=\"time\").mean(dim=\"lat\").mean(dim=\"lon\")\n"
   ]
  },
  {
   "cell_type": "code",
   "execution_count": 39,
   "id": "766ff02b",
   "metadata": {},
   "outputs": [
    {
     "name": "stdout",
     "output_type": "stream",
     "text": [
      "175 ms ± 8.09 ms per loop (mean ± std. dev. of 5 runs, 5 loops each)\n"
     ]
    }
   ],
   "source": [
    "%%timeit -n 5 -r 5\n",
    "sequential(ds)"
   ]
  },
  {
   "cell_type": "code",
   "execution_count": 56,
   "id": "f71e8ed4",
   "metadata": {},
   "outputs": [
    {
     "name": "stdout",
     "output_type": "stream",
     "text": [
      "149 ms ± 18.4 ms per loop (mean ± std. dev. of 5 runs, 5 loops each)\n"
     ]
    }
   ],
   "source": [
    "%%timeit -n 5 -r 5\n",
    "sequential_transformed_fast(ds)"
   ]
  },
  {
   "cell_type": "code",
   "execution_count": 40,
   "id": "3d0ea654",
   "metadata": {},
   "outputs": [
    {
     "ename": "OSError",
     "evalue": "could not get source code",
     "output_type": "error",
     "traceback": [
      "\u001b[31m---------------------------------------------------------------------------\u001b[39m",
      "\u001b[31mOSError\u001b[39m                                   Traceback (most recent call last)",
      "\u001b[36mCell\u001b[39m\u001b[36m \u001b[39m\u001b[32mIn[40]\u001b[39m\u001b[32m, line 1\u001b[39m\n\u001b[32m----> \u001b[39m\u001b[32m1\u001b[39m \u001b[43mget_ipython\u001b[49m\u001b[43m(\u001b[49m\u001b[43m)\u001b[49m\u001b[43m.\u001b[49m\u001b[43mrun_cell_magic\u001b[49m\u001b[43m(\u001b[49m\u001b[33;43m'\u001b[39;49m\u001b[33;43mtimeit\u001b[39;49m\u001b[33;43m'\u001b[39;49m\u001b[43m,\u001b[49m\u001b[43m \u001b[49m\u001b[33;43m'\u001b[39;49m\u001b[33;43m-n 5 -r 5\u001b[39;49m\u001b[33;43m'\u001b[39;49m\u001b[43m,\u001b[49m\u001b[43m \u001b[49m\u001b[33;43m'\u001b[39;49m\u001b[33;43msequential_transformed(ds)\u001b[39;49m\u001b[38;5;130;43;01m\\n\u001b[39;49;00m\u001b[33;43m'\u001b[39;49m\u001b[43m)\u001b[49m\n",
      "\u001b[36mFile \u001b[39m\u001b[32m~/miniforge3/lib/python3.12/site-packages/IPython/core/interactiveshell.py:2547\u001b[39m, in \u001b[36mInteractiveShell.run_cell_magic\u001b[39m\u001b[34m(self, magic_name, line, cell)\u001b[39m\n\u001b[32m   2545\u001b[39m \u001b[38;5;28;01mwith\u001b[39;00m \u001b[38;5;28mself\u001b[39m.builtin_trap:\n\u001b[32m   2546\u001b[39m     args = (magic_arg_s, cell)\n\u001b[32m-> \u001b[39m\u001b[32m2547\u001b[39m     result = \u001b[43mfn\u001b[49m\u001b[43m(\u001b[49m\u001b[43m*\u001b[49m\u001b[43margs\u001b[49m\u001b[43m,\u001b[49m\u001b[43m \u001b[49m\u001b[43m*\u001b[49m\u001b[43m*\u001b[49m\u001b[43mkwargs\u001b[49m\u001b[43m)\u001b[49m\n\u001b[32m   2549\u001b[39m \u001b[38;5;66;03m# The code below prevents the output from being displayed\u001b[39;00m\n\u001b[32m   2550\u001b[39m \u001b[38;5;66;03m# when using magics with decorator @output_can_be_silenced\u001b[39;00m\n\u001b[32m   2551\u001b[39m \u001b[38;5;66;03m# when the last Python token in the expression is a ';'.\u001b[39;00m\n\u001b[32m   2552\u001b[39m \u001b[38;5;28;01mif\u001b[39;00m \u001b[38;5;28mgetattr\u001b[39m(fn, magic.MAGIC_OUTPUT_CAN_BE_SILENCED, \u001b[38;5;28;01mFalse\u001b[39;00m):\n",
      "\u001b[36mFile \u001b[39m\u001b[32m~/miniforge3/lib/python3.12/site-packages/IPython/core/magics/execution.py:1229\u001b[39m, in \u001b[36mExecutionMagics.timeit\u001b[39m\u001b[34m(self, line, cell, local_ns)\u001b[39m\n\u001b[32m   1226\u001b[39m         \u001b[38;5;28;01mif\u001b[39;00m time_number >= \u001b[32m0.2\u001b[39m:\n\u001b[32m   1227\u001b[39m             \u001b[38;5;28;01mbreak\u001b[39;00m\n\u001b[32m-> \u001b[39m\u001b[32m1229\u001b[39m all_runs = \u001b[43mtimer\u001b[49m\u001b[43m.\u001b[49m\u001b[43mrepeat\u001b[49m\u001b[43m(\u001b[49m\u001b[43mrepeat\u001b[49m\u001b[43m,\u001b[49m\u001b[43m \u001b[49m\u001b[43mnumber\u001b[49m\u001b[43m)\u001b[49m\n\u001b[32m   1230\u001b[39m best = \u001b[38;5;28mmin\u001b[39m(all_runs) / number\n\u001b[32m   1231\u001b[39m worst = \u001b[38;5;28mmax\u001b[39m(all_runs) / number\n",
      "\u001b[36mFile \u001b[39m\u001b[32m~/miniforge3/lib/python3.12/timeit.py:208\u001b[39m, in \u001b[36mTimer.repeat\u001b[39m\u001b[34m(self, repeat, number)\u001b[39m\n\u001b[32m    206\u001b[39m r = []\n\u001b[32m    207\u001b[39m \u001b[38;5;28;01mfor\u001b[39;00m i \u001b[38;5;129;01min\u001b[39;00m \u001b[38;5;28mrange\u001b[39m(repeat):\n\u001b[32m--> \u001b[39m\u001b[32m208\u001b[39m     t = \u001b[38;5;28;43mself\u001b[39;49m\u001b[43m.\u001b[49m\u001b[43mtimeit\u001b[49m\u001b[43m(\u001b[49m\u001b[43mnumber\u001b[49m\u001b[43m)\u001b[49m\n\u001b[32m    209\u001b[39m     r.append(t)\n\u001b[32m    210\u001b[39m \u001b[38;5;28;01mreturn\u001b[39;00m r\n",
      "\u001b[36mFile \u001b[39m\u001b[32m~/miniforge3/lib/python3.12/site-packages/IPython/core/magics/execution.py:182\u001b[39m, in \u001b[36mTimer.timeit\u001b[39m\u001b[34m(self, number)\u001b[39m\n\u001b[32m    180\u001b[39m gc.disable()\n\u001b[32m    181\u001b[39m \u001b[38;5;28;01mtry\u001b[39;00m:\n\u001b[32m--> \u001b[39m\u001b[32m182\u001b[39m     timing = \u001b[38;5;28;43mself\u001b[39;49m\u001b[43m.\u001b[49m\u001b[43minner\u001b[49m\u001b[43m(\u001b[49m\u001b[43mit\u001b[49m\u001b[43m,\u001b[49m\u001b[43m \u001b[49m\u001b[38;5;28;43mself\u001b[39;49m\u001b[43m.\u001b[49m\u001b[43mtimer\u001b[49m\u001b[43m)\u001b[49m\n\u001b[32m    183\u001b[39m \u001b[38;5;28;01mfinally\u001b[39;00m:\n\u001b[32m    184\u001b[39m     \u001b[38;5;28;01mif\u001b[39;00m gcold:\n",
      "\u001b[36mFile \u001b[39m\u001b[32m<magic-timeit>:1\u001b[39m, in \u001b[36minner\u001b[39m\u001b[34m(_it, _timer)\u001b[39m\n",
      "\u001b[36mCell\u001b[39m\u001b[36m \u001b[39m\u001b[32mIn[38]\u001b[39m\u001b[32m, line 124\u001b[39m, in \u001b[36mast_transform.<locals>.wrapper\u001b[39m\u001b[34m(*args, **kwargs)\u001b[39m\n\u001b[32m    121\u001b[39m \u001b[38;5;28;01mdef\u001b[39;00m\u001b[38;5;250m \u001b[39m\u001b[34mwrapper\u001b[39m(*args, **kwargs):\n\u001b[32m    122\u001b[39m     \u001b[38;5;66;03m# Create a local namespace for execution\u001b[39;00m\n\u001b[32m    123\u001b[39m     local_vars = {}\n\u001b[32m--> \u001b[39m\u001b[32m124\u001b[39m     \u001b[43mexec\u001b[49m\u001b[43m(\u001b[49m\u001b[43mcompiled_code\u001b[49m\u001b[43m,\u001b[49m\u001b[43m \u001b[49m\u001b[38;5;28;43mglobals\u001b[39;49m\u001b[43m(\u001b[49m\u001b[43m)\u001b[49m\u001b[43m,\u001b[49m\u001b[43m \u001b[49m\u001b[43mlocal_vars\u001b[49m\u001b[43m)\u001b[49m\n\u001b[32m    126\u001b[39m     \u001b[38;5;66;03m# Get the transformed function from local namespace\u001b[39;00m\n\u001b[32m    127\u001b[39m     func_name = func.\u001b[34m__name__\u001b[39m\n",
      "\u001b[36mFile \u001b[39m\u001b[32m<transformed>:1\u001b[39m\n",
      "\u001b[36mCell\u001b[39m\u001b[36m \u001b[39m\u001b[32mIn[38]\u001b[39m\u001b[32m, line 113\u001b[39m, in \u001b[36mast_transform\u001b[39m\u001b[34m(func)\u001b[39m\n\u001b[32m    109\u001b[39m \u001b[38;5;250m\u001b[39m\u001b[33;03m\"\"\"\u001b[39;00m\n\u001b[32m    110\u001b[39m \u001b[33;03mTransform a function to remove chained calls.\u001b[39;00m\n\u001b[32m    111\u001b[39m \u001b[33;03m\"\"\"\u001b[39;00m\n\u001b[32m    112\u001b[39m \u001b[38;5;66;03m# Do the transformation ONCE when the decorator is applied\u001b[39;00m\n\u001b[32m--> \u001b[39m\u001b[32m113\u001b[39m cst_for_mods = cst.parse_module(\u001b[43minspect\u001b[49m\u001b[43m.\u001b[49m\u001b[43mgetsource\u001b[49m\u001b[43m(\u001b[49m\u001b[43mfunc\u001b[49m\u001b[43m)\u001b[49m)\n\u001b[32m    114\u001b[39m transformer = ChainSimplifier()\n\u001b[32m    115\u001b[39m transformed_cst = cst_for_mods.visit(transformer)\n",
      "\u001b[36mFile \u001b[39m\u001b[32m~/miniforge3/lib/python3.12/inspect.py:1285\u001b[39m, in \u001b[36mgetsource\u001b[39m\u001b[34m(object)\u001b[39m\n\u001b[32m   1279\u001b[39m \u001b[38;5;28;01mdef\u001b[39;00m\u001b[38;5;250m \u001b[39m\u001b[34mgetsource\u001b[39m(\u001b[38;5;28mobject\u001b[39m):\n\u001b[32m   1280\u001b[39m \u001b[38;5;250m    \u001b[39m\u001b[33;03m\"\"\"Return the text of the source code for an object.\u001b[39;00m\n\u001b[32m   1281\u001b[39m \n\u001b[32m   1282\u001b[39m \u001b[33;03m    The argument may be a module, class, method, function, traceback, frame,\u001b[39;00m\n\u001b[32m   1283\u001b[39m \u001b[33;03m    or code object.  The source code is returned as a single string.  An\u001b[39;00m\n\u001b[32m   1284\u001b[39m \u001b[33;03m    OSError is raised if the source code cannot be retrieved.\"\"\"\u001b[39;00m\n\u001b[32m-> \u001b[39m\u001b[32m1285\u001b[39m     lines, lnum = \u001b[43mgetsourcelines\u001b[49m\u001b[43m(\u001b[49m\u001b[38;5;28;43mobject\u001b[39;49m\u001b[43m)\u001b[49m\n\u001b[32m   1286\u001b[39m     \u001b[38;5;28;01mreturn\u001b[39;00m \u001b[33m'\u001b[39m\u001b[33m'\u001b[39m.join(lines)\n",
      "\u001b[36mFile \u001b[39m\u001b[32m~/miniforge3/lib/python3.12/inspect.py:1267\u001b[39m, in \u001b[36mgetsourcelines\u001b[39m\u001b[34m(object)\u001b[39m\n\u001b[32m   1259\u001b[39m \u001b[38;5;250m\u001b[39m\u001b[33;03m\"\"\"Return a list of source lines and starting line number for an object.\u001b[39;00m\n\u001b[32m   1260\u001b[39m \n\u001b[32m   1261\u001b[39m \u001b[33;03mThe argument may be a module, class, method, function, traceback, frame,\u001b[39;00m\n\u001b[32m   (...)\u001b[39m\u001b[32m   1264\u001b[39m \u001b[33;03moriginal source file the first line of code was found.  An OSError is\u001b[39;00m\n\u001b[32m   1265\u001b[39m \u001b[33;03mraised if the source code cannot be retrieved.\"\"\"\u001b[39;00m\n\u001b[32m   1266\u001b[39m \u001b[38;5;28mobject\u001b[39m = unwrap(\u001b[38;5;28mobject\u001b[39m)\n\u001b[32m-> \u001b[39m\u001b[32m1267\u001b[39m lines, lnum = \u001b[43mfindsource\u001b[49m\u001b[43m(\u001b[49m\u001b[38;5;28;43mobject\u001b[39;49m\u001b[43m)\u001b[49m\n\u001b[32m   1269\u001b[39m \u001b[38;5;28;01mif\u001b[39;00m istraceback(\u001b[38;5;28mobject\u001b[39m):\n\u001b[32m   1270\u001b[39m     \u001b[38;5;28mobject\u001b[39m = \u001b[38;5;28mobject\u001b[39m.tb_frame\n",
      "\u001b[36mFile \u001b[39m\u001b[32m~/miniforge3/lib/python3.12/inspect.py:1096\u001b[39m, in \u001b[36mfindsource\u001b[39m\u001b[34m(object)\u001b[39m\n\u001b[32m   1094\u001b[39m     lines = linecache.getlines(file)\n\u001b[32m   1095\u001b[39m \u001b[38;5;28;01mif\u001b[39;00m \u001b[38;5;129;01mnot\u001b[39;00m lines:\n\u001b[32m-> \u001b[39m\u001b[32m1096\u001b[39m     \u001b[38;5;28;01mraise\u001b[39;00m \u001b[38;5;167;01mOSError\u001b[39;00m(\u001b[33m'\u001b[39m\u001b[33mcould not get source code\u001b[39m\u001b[33m'\u001b[39m)\n\u001b[32m   1098\u001b[39m \u001b[38;5;28;01mif\u001b[39;00m ismodule(\u001b[38;5;28mobject\u001b[39m):\n\u001b[32m   1099\u001b[39m     \u001b[38;5;28;01mreturn\u001b[39;00m lines, \u001b[32m0\u001b[39m\n",
      "\u001b[31mOSError\u001b[39m: could not get source code"
     ]
    }
   ],
   "source": [
    "%%timeit -n 5 -r 5\n",
    "sequential_transformed(ds)"
   ]
  },
  {
   "cell_type": "code",
   "execution_count": 34,
   "id": "86ef641a",
   "metadata": {},
   "outputs": [
    {
     "ename": "ParserSyntaxError",
     "evalue": "Syntax Error @ 2:5.\nparser error: error at 1:4: expected one of (, *, +, -, ..., AWAIT, EOF, False, NAME, NUMBER, None, True, [, break, continue, lambda, match, not, pass, ~\n\n        cst_for_mods = cst.parse_module(inspect.getsource(func))\n    ^",
     "output_type": "error",
     "traceback": [
      "\u001b[31m---------------------------------------------------------------------------\u001b[39m",
      "\u001b[31mParserSyntaxError\u001b[39m                         Traceback (most recent call last)",
      "\u001b[36mCell\u001b[39m\u001b[36m \u001b[39m\u001b[32mIn[34]\u001b[39m\u001b[32m, line 2\u001b[39m\n\u001b[32m      1\u001b[39m \u001b[38;5;66;03m# look at the generated code from the transformation\u001b[39;00m\n\u001b[32m----> \u001b[39m\u001b[32m2\u001b[39m cst_for_mods = \u001b[43mcst\u001b[49m\u001b[43m.\u001b[49m\u001b[43mparse_module\u001b[49m\u001b[43m(\u001b[49m\u001b[43minspect\u001b[49m\u001b[43m.\u001b[49m\u001b[43mgetsource\u001b[49m\u001b[43m(\u001b[49m\u001b[43msequential_transformed\u001b[49m\u001b[43m)\u001b[49m\u001b[43m)\u001b[49m\n",
      "\u001b[36mFile \u001b[39m\u001b[32m~/miniforge3/lib/python3.12/site-packages/libcst/_parser/entrypoints.py:109\u001b[39m, in \u001b[36mparse_module\u001b[39m\u001b[34m(source, config)\u001b[39m\n\u001b[32m     94\u001b[39m \u001b[38;5;28;01mdef\u001b[39;00m\u001b[38;5;250m \u001b[39m\u001b[34mparse_module\u001b[39m(\n\u001b[32m     95\u001b[39m     source: Union[\u001b[38;5;28mstr\u001b[39m, \u001b[38;5;28mbytes\u001b[39m],  \u001b[38;5;66;03m# the only entrypoint that accepts bytes\u001b[39;00m\n\u001b[32m     96\u001b[39m     config: PartialParserConfig = _DEFAULT_PARTIAL_PARSER_CONFIG,\n\u001b[32m     97\u001b[39m ) -> Module:\n\u001b[32m     98\u001b[39m \u001b[38;5;250m    \u001b[39m\u001b[33;03m\"\"\"\u001b[39;00m\n\u001b[32m     99\u001b[39m \u001b[33;03m    Accepts an entire python module, including all leading and trailing whitespace.\u001b[39;00m\n\u001b[32m    100\u001b[39m \n\u001b[32m   (...)\u001b[39m\u001b[32m    107\u001b[39m \u001b[33;03m    attribute.\u001b[39;00m\n\u001b[32m    108\u001b[39m \u001b[33;03m    \"\"\"\u001b[39;00m\n\u001b[32m--> \u001b[39m\u001b[32m109\u001b[39m     result = \u001b[43m_parse\u001b[49m\u001b[43m(\u001b[49m\n\u001b[32m    110\u001b[39m \u001b[43m        \u001b[49m\u001b[33;43m\"\u001b[39;49m\u001b[33;43mfile_input\u001b[39;49m\u001b[33;43m\"\u001b[39;49m\u001b[43m,\u001b[49m\n\u001b[32m    111\u001b[39m \u001b[43m        \u001b[49m\u001b[43msource\u001b[49m\u001b[43m,\u001b[49m\n\u001b[32m    112\u001b[39m \u001b[43m        \u001b[49m\u001b[43mconfig\u001b[49m\u001b[43m,\u001b[49m\n\u001b[32m    113\u001b[39m \u001b[43m        \u001b[49m\u001b[43mdetect_trailing_newline\u001b[49m\u001b[43m=\u001b[49m\u001b[38;5;28;43;01mTrue\u001b[39;49;00m\u001b[43m,\u001b[49m\n\u001b[32m    114\u001b[39m \u001b[43m        \u001b[49m\u001b[43mdetect_default_newline\u001b[49m\u001b[43m=\u001b[49m\u001b[38;5;28;43;01mTrue\u001b[39;49;00m\u001b[43m,\u001b[49m\n\u001b[32m    115\u001b[39m \u001b[43m    \u001b[49m\u001b[43m)\u001b[49m\n\u001b[32m    116\u001b[39m     \u001b[38;5;28;01massert\u001b[39;00m \u001b[38;5;28misinstance\u001b[39m(result, Module)\n\u001b[32m    117\u001b[39m     \u001b[38;5;28;01mreturn\u001b[39;00m result\n",
      "\u001b[36mFile \u001b[39m\u001b[32m~/miniforge3/lib/python3.12/site-packages/libcst/_parser/entrypoints.py:55\u001b[39m, in \u001b[36m_parse\u001b[39m\u001b[34m(entrypoint, source, config, detect_trailing_newline, detect_default_newline)\u001b[39m\n\u001b[32m     52\u001b[39m     \u001b[38;5;28;01melse\u001b[39;00m:\n\u001b[32m     53\u001b[39m         \u001b[38;5;28;01mraise\u001b[39;00m \u001b[38;5;167;01mValueError\u001b[39;00m(\u001b[33mf\u001b[39m\u001b[33m\"\u001b[39m\u001b[33mUnknown parser entry point: \u001b[39m\u001b[38;5;132;01m{\u001b[39;00mentrypoint\u001b[38;5;132;01m}\u001b[39;00m\u001b[33m\"\u001b[39m)\n\u001b[32m---> \u001b[39m\u001b[32m55\u001b[39m     \u001b[38;5;28;01mreturn\u001b[39;00m \u001b[43mparse\u001b[49m\u001b[43m(\u001b[49m\u001b[43msource_str\u001b[49m\u001b[43m)\u001b[49m\n\u001b[32m     56\u001b[39m \u001b[38;5;28;01mreturn\u001b[39;00m _pure_python_parse(\n\u001b[32m     57\u001b[39m     entrypoint,\n\u001b[32m     58\u001b[39m     source,\n\u001b[32m   (...)\u001b[39m\u001b[32m     61\u001b[39m     detect_default_newline=detect_default_newline,\n\u001b[32m     62\u001b[39m )\n",
      "\u001b[31mParserSyntaxError\u001b[39m: Syntax Error @ 2:5.\nparser error: error at 1:4: expected one of (, *, +, -, ..., AWAIT, EOF, False, NAME, NUMBER, None, True, [, break, continue, lambda, match, not, pass, ~\n\n        cst_for_mods = cst.parse_module(inspect.getsource(func))\n    ^"
     ]
    }
   ],
   "source": [
    "# look at the generated code from the transformation\n",
    "cst_for_mods = cst.parse_module(inspect.getsource(sequential_transformed))"
   ]
  }
 ],
 "metadata": {
  "kernelspec": {
   "display_name": "base",
   "language": "python",
   "name": "python3"
  },
  "language_info": {
   "codemirror_mode": {
    "name": "ipython",
    "version": 3
   },
   "file_extension": ".py",
   "mimetype": "text/x-python",
   "name": "python",
   "nbconvert_exporter": "python",
   "pygments_lexer": "ipython3",
   "version": "3.12.5"
  }
 },
 "nbformat": 4,
 "nbformat_minor": 5
}
